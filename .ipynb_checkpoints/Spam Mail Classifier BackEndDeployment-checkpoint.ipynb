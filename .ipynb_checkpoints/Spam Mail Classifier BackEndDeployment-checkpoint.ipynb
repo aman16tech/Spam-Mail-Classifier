{
 "cells": [
  {
   "cell_type": "code",
   "execution_count": 15,
   "id": "a38e86c6",
   "metadata": {},
   "outputs": [],
   "source": [
    "import pandas as pd\n",
    "import nltk\n",
    "import numpy as np\n",
    "import matplotlib.pyplot as plt\n",
    "import seaborn as sns\n",
    "import warnings\n",
    "warnings.filterwarnings(\"ignore\")\n",
    "import re\n",
    "\n",
    "from nltk.corpus import stopwords\n",
    "from nltk.stem import WordNetLemmatizer\n",
    "from gensim.parsing.preprocessing import remove_stopwords\n",
    "lemmitizer = WordNetLemmatizer()\n",
    "stop_words = set(stopwords.words('english'))\n"
   ]
  },
  {
   "cell_type": "code",
   "execution_count": 16,
   "id": "842a9689",
   "metadata": {},
   "outputs": [
    {
     "ename": "FileNotFoundError",
     "evalue": "[Errno 2] No such file or directory: 'CVSpamMailClassifierLemm.pkl'",
     "output_type": "error",
     "traceback": [
      "\u001b[1;31m---------------------------------------------------------------------------\u001b[0m",
      "\u001b[1;31mFileNotFoundError\u001b[0m                         Traceback (most recent call last)",
      "Input \u001b[1;32mIn [16]\u001b[0m, in \u001b[0;36m<cell line: 2>\u001b[1;34m()\u001b[0m\n\u001b[0;32m      1\u001b[0m \u001b[38;5;28;01mimport\u001b[39;00m \u001b[38;5;21;01mjoblib\u001b[39;00m\n\u001b[1;32m----> 2\u001b[0m cv \u001b[38;5;241m=\u001b[39m \u001b[43mjoblib\u001b[49m\u001b[38;5;241;43m.\u001b[39;49m\u001b[43mload\u001b[49m\u001b[43m(\u001b[49m\u001b[38;5;124;43m\"\u001b[39;49m\u001b[38;5;124;43mCVSpamMailClassifierLemm.pkl\u001b[39;49m\u001b[38;5;124;43m\"\u001b[39;49m\u001b[43m)\u001b[49m\n\u001b[0;32m      3\u001b[0m svm_Model \u001b[38;5;241m=\u001b[39m joblib\u001b[38;5;241m.\u001b[39mload(\u001b[38;5;124m\"\u001b[39m\u001b[38;5;124mMLSpamMailClassifierLemm.pkl\u001b[39m\u001b[38;5;124m\"\u001b[39m)\n",
      "File \u001b[1;32m~\\anaconda3\\lib\\site-packages\\joblib\\numpy_pickle.py:579\u001b[0m, in \u001b[0;36mload\u001b[1;34m(filename, mmap_mode)\u001b[0m\n\u001b[0;32m    577\u001b[0m         obj \u001b[38;5;241m=\u001b[39m _unpickle(fobj)\n\u001b[0;32m    578\u001b[0m \u001b[38;5;28;01melse\u001b[39;00m:\n\u001b[1;32m--> 579\u001b[0m     \u001b[38;5;28;01mwith\u001b[39;00m \u001b[38;5;28;43mopen\u001b[39;49m\u001b[43m(\u001b[49m\u001b[43mfilename\u001b[49m\u001b[43m,\u001b[49m\u001b[43m \u001b[49m\u001b[38;5;124;43m'\u001b[39;49m\u001b[38;5;124;43mrb\u001b[39;49m\u001b[38;5;124;43m'\u001b[39;49m\u001b[43m)\u001b[49m \u001b[38;5;28;01mas\u001b[39;00m f:\n\u001b[0;32m    580\u001b[0m         \u001b[38;5;28;01mwith\u001b[39;00m _read_fileobject(f, filename, mmap_mode) \u001b[38;5;28;01mas\u001b[39;00m fobj:\n\u001b[0;32m    581\u001b[0m             \u001b[38;5;28;01mif\u001b[39;00m \u001b[38;5;28misinstance\u001b[39m(fobj, \u001b[38;5;28mstr\u001b[39m):\n\u001b[0;32m    582\u001b[0m                 \u001b[38;5;66;03m# if the returned file object is a string, this means we\u001b[39;00m\n\u001b[0;32m    583\u001b[0m                 \u001b[38;5;66;03m# try to load a pickle file generated with an version of\u001b[39;00m\n\u001b[0;32m    584\u001b[0m                 \u001b[38;5;66;03m# Joblib so we load it with joblib compatibility function.\u001b[39;00m\n",
      "\u001b[1;31mFileNotFoundError\u001b[0m: [Errno 2] No such file or directory: 'CVSpamMailClassifierLemm.pkl'"
     ]
    }
   ],
   "source": [
    "import joblib\n",
    "cv = joblib.load(\"CVSpamMailClassifier.pkl\")\n",
    "svm_Model = joblib.load(\"MLSpamMailClassifier.pkl\")\n"
   ]
  },
  {
   "cell_type": "code",
   "execution_count": null,
   "id": "ad20a4b3",
   "metadata": {},
   "outputs": [],
   "source": [
    "cv"
   ]
  },
  {
   "cell_type": "code",
   "execution_count": null,
   "id": "7b5c5c49",
   "metadata": {},
   "outputs": [],
   "source": [
    "svm_Model"
   ]
  },
  {
   "cell_type": "code",
   "execution_count": null,
   "id": "5bc4b1d8",
   "metadata": {},
   "outputs": [],
   "source": [
    "def text_cleaner(text):\n",
    "    sent = re.sub('[^a-zA-Z]',' ',text)\n",
    "    sent =  sent.lower()\n",
    "    sent=\" \".join([lemmitizer.lemmatize(word) for word in str(sent).split()])\n",
    "    sent = \" \".join([word for word in str(sent).split() if(word not in stop_words)])\n",
    "    return sent"
   ]
  },
  {
   "cell_type": "code",
   "execution_count": null,
   "id": "4aebd5c6",
   "metadata": {},
   "outputs": [],
   "source": [
    "#raw_mail = \" Delivered-To: amantanpure1999@gmail.com I want to ask for your Partnership in getting back the funds USD 3,500,000.00&nbsp; left behind in our bank&nbsp;by a = citizen of your country Mr. Vinay Kumar. This is safe and beneficial, I am = the operations manager of our bank here in the United states of merica.\"\n",
    "raw_mail = \" Subject: urgent ed has requested that we compile a list this morning of all parties / points which we owe gas to , in the event that we need to find a home for excess volumes today . please email me a list of any meters / contracts that you are aware of . i am compiling an interim list based upon the rtu variance report for march , however , i don ' t want to rely on this list as you may be engaged in balancing at meters with variances . thank you , mary \"\n",
    "#raw_mail = \" Subject: futile mail. From: Aman Tanpure <amantanpure1999@gmail.com> To: Aman Tanpure <amantanpure1999@gmail.com> Hi Aman, How are you? Its been so long and no meet. Greate to see you here. I hope yo are doing amazing. Love you Take care Bye\"\n",
    "#raw_mail = \"Subject: meet local women click here to be removed\"\n",
    "print(\"Before Cleaning: \",raw_mail)\n",
    "\n",
    "checked_mail = text_cleaner(raw_mail)\n",
    "print(\"After cleaning:-\",checked_mail)"
   ]
  },
  {
   "cell_type": "code",
   "execution_count": null,
   "id": "e7193880",
   "metadata": {},
   "outputs": [],
   "source": [
    "X = cv.transform([checked_mail])\n",
    "X"
   ]
  },
  {
   "cell_type": "code",
   "execution_count": null,
   "id": "2e131f73",
   "metadata": {},
   "outputs": [],
   "source": [
    "pred = svm_Model.predict(X)[0]\n",
    "print(pred)"
   ]
  },
  {
   "cell_type": "code",
   "execution_count": null,
   "id": "82837190",
   "metadata": {},
   "outputs": [],
   "source": []
  }
 ],
 "metadata": {
  "kernelspec": {
   "display_name": "Python 3 (ipykernel)",
   "language": "python",
   "name": "python3"
  },
  "language_info": {
   "codemirror_mode": {
    "name": "ipython",
    "version": 3
   },
   "file_extension": ".py",
   "mimetype": "text/x-python",
   "name": "python",
   "nbconvert_exporter": "python",
   "pygments_lexer": "ipython3",
   "version": "3.9.12"
  }
 },
 "nbformat": 4,
 "nbformat_minor": 5
}
